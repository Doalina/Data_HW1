{
 "cells": [
  {
   "cell_type": "code",
   "execution_count": 2,
   "id": "a6234e19-0f2a-47b4-9bd6-8ebd0e946517",
   "metadata": {},
   "outputs": [],
   "source": [
    "import numpy as np"
   ]
  },
  {
   "cell_type": "code",
   "execution_count": 3,
   "id": "0063c507-0714-43dd-844b-1315b1288d52",
   "metadata": {},
   "outputs": [
    {
     "name": "stdout",
     "output_type": "stream",
     "text": [
      "[ 1  2  3  4  5  6  7  8  9 10]\n"
     ]
    }
   ],
   "source": [
    "# Створіть одновимірний масив (вектор) з першими 10-ма натуральними числами та виведіть його значення.\n",
    "vector = np.arange(1, 11, dtype=int)\n",
    "print(vector)"
   ]
  },
  {
   "cell_type": "code",
   "execution_count": 4,
   "id": "3fd44e65-cf90-4541-a852-81a33dbaee17",
   "metadata": {},
   "outputs": [
    {
     "name": "stdout",
     "output_type": "stream",
     "text": [
      "[[0 0 0]\n",
      " [0 0 0]\n",
      " [0 0 0]]\n"
     ]
    }
   ],
   "source": [
    "# Створіть двовимірний масив (матрицю) розміром 3x3, заповніть його нулями та виведіть його значення.\n",
    "m = np.zeros((3, 3), dtype=int)\n",
    "print(m)"
   ]
  },
  {
   "cell_type": "code",
   "execution_count": 5,
   "id": "2e25647b-e377-4632-a61f-cf57a230d62f",
   "metadata": {},
   "outputs": [
    {
     "name": "stdout",
     "output_type": "stream",
     "text": [
      "[[ 9  9  9  5  2]\n",
      " [ 5  4  2  2 10]\n",
      " [ 8  2  1  6  2]\n",
      " [ 8  4  2  9  2]\n",
      " [ 3 10  9  3  1]]\n"
     ]
    }
   ],
   "source": [
    "# Створіть масив розміром 5x5, заповніть його випадковими цілими числами в діапазоні від 1 до 10 та виведіть його значення.\n",
    "m = np.random.randint(1, 11, size=(5, 5), dtype=int)\n",
    "print(m)\n"
   ]
  },
  {
   "cell_type": "code",
   "execution_count": 6,
   "id": "f9b8778e-f161-4167-9f52-ba061be699c9",
   "metadata": {},
   "outputs": [
    {
     "name": "stdout",
     "output_type": "stream",
     "text": [
      "[[0.99795767 0.44973823 0.87138809 0.31013278]\n",
      " [0.24122548 0.74972808 0.01191757 0.46252204]\n",
      " [0.7834242  0.8938165  0.85311065 0.43073776]\n",
      " [0.65329579 0.52950834 0.81932412 0.27187308]]\n"
     ]
    }
   ],
   "source": [
    "# Створіть масив розміром 4x4, заповніть його випадковими дійсними числами в діапазоні від 0 до 1 та виведіть його значення.\n",
    "m = np.random.uniform(0, 1, size=(4, 4))\n",
    "print(m)"
   ]
  },
  {
   "cell_type": "code",
   "execution_count": 9,
   "id": "e7729f2f-868f-4adb-aa79-c04eb7cf9e9f",
   "metadata": {},
   "outputs": [
    {
     "name": "stdout",
     "output_type": "stream",
     "text": [
      "array1: [4 2 1 9 5]\n",
      "array2: [1 8 3 1 1]\n",
      "Sum: [ 5 10  4 10  6]\n",
      "Subtraction: [ 3 -6 -2  8  4]\n",
      "Multiplication: [ 4 16  3  9  5]\n"
     ]
    }
   ],
   "source": [
    "# Створіть два одновимірних масиви розміром 5, заповніть їх випадковими цілими числами в діапазоні від 1 до 10 та виконайте \n",
    "# на них поелементні операції додавання, віднімання та множення.\n",
    "array1 = np.random.randint(1, 11, size=5)\n",
    "array2 = np.random.randint(1, 11, size=5)\n",
    "print(\"array1:\", array1)\n",
    "print(\"array2:\", array2)\n",
    "\n",
    "sum_array = array1 + array2\n",
    "print(\"Sum:\", sum_array)\n",
    "\n",
    "subtraction_array = array1 - array2\n",
    "print(\"Subtraction:\", subtraction_array)\n",
    "\n",
    "multiplication_array = array1 * array2\n",
    "print(\"Multiplication:\", multiplication_array)"
   ]
  },
  {
   "cell_type": "code",
   "execution_count": 19,
   "id": "81deb5ee-1dbc-4210-82d6-414e5921d989",
   "metadata": {},
   "outputs": [
    {
     "name": "stdout",
     "output_type": "stream",
     "text": [
      "array1:\n",
      " [0.78297022 0.09958531 0.8707163  0.5172985  0.7832003  0.61037505\n",
      " 0.00434083]\n",
      "array2:\n",
      " [0.48280707 0.75187438 0.53036855 0.61918004 0.11791035 0.02189541\n",
      " 0.36131938]\n",
      "Dot product: 1.3422809013718324\n"
     ]
    }
   ],
   "source": [
    "# Створіть два вектори розміром 7, заповніть довільними числами та знайдіть їх скалярний добуток.\n",
    "array1 = np.random.random(7)\n",
    "array2 = np.random.random(7)\n",
    "print(\"array1:\\n\", array1)\n",
    "\n",
    "print(\"array2:\\n\", array2)\n",
    "\n",
    "dot_array = np.dot(array1, array2)\n",
    "print(\"Dot product:\", dot_array)"
   ]
  },
  {
   "cell_type": "code",
   "execution_count": 17,
   "id": "c49c3452-2255-4ae5-adc1-f60d684a4c27",
   "metadata": {},
   "outputs": [
    {
     "name": "stdout",
     "output_type": "stream",
     "text": [
      "matrix1:\n",
      " [[ 2  3]\n",
      " [ 4 10]]\n",
      "matrix2:\n",
      " [[10  2  4]\n",
      " [ 4  8  7]]\n",
      "Dot matrix:\n",
      " [[32 28 29]\n",
      " [80 88 86]]\n"
     ]
    }
   ],
   "source": [
    "# Створіть дві матриці розміром 2x2 та 2x3, заповніть їх випадковими цілими числами в діапазоні від 1 до 10 та перемножте їх між собою.\n",
    "matrix1 = np.random.randint(1, 11, size=(2, 2))\n",
    "matrix2 = np.random.randint(1, 11, size=(2, 3))\n",
    "\n",
    "print(\"matrix1:\\n\", matrix1)\n",
    "print(\"matrix2:\\n\", matrix2)\n",
    "\n",
    "dot_matrix = np.dot(matrix1, matrix2)\n",
    "print(\"Dot matrix:\\n\", dot_matrix)"
   ]
  },
  {
   "cell_type": "code",
   "execution_count": 22,
   "id": "e9d5c6b5-346a-4500-9a18-c7e6776dd2b5",
   "metadata": {},
   "outputs": [
    {
     "name": "stdout",
     "output_type": "stream",
     "text": [
      "[[4 6 6]\n",
      " [3 4 1]\n",
      " [4 2 3]]\n",
      "inverse_matrix: \n",
      " [[-0.2   0.12  0.36]\n",
      " [ 0.1   0.24 -0.28]\n",
      " [ 0.2  -0.32  0.04]]\n"
     ]
    }
   ],
   "source": [
    "# Створіть матрицю розміром 3x3, заповніть її випадковими цілими числами в діапазоні від 1 до 10 та знайдіть її обернену матрицю.\n",
    "matrix = np.random.randint(1, 11, size=(3, 3))\n",
    "\n",
    "print(matrix)\n",
    "\n",
    "inverse_matrix = np.linalg.inv(matrix)\n",
    "print(\"inverse_matrix: \\n\", inverse_matrix)\n"
   ]
  },
  {
   "cell_type": "code",
   "execution_count": 24,
   "id": "11259af6-d169-4425-9985-5cb55987ba49",
   "metadata": {},
   "outputs": [
    {
     "name": "stdout",
     "output_type": "stream",
     "text": [
      "[[0.37957961 0.15804726 0.69216076 0.72573935]\n",
      " [0.50364343 0.33294189 0.63436831 0.95731232]\n",
      " [0.74348752 0.59453056 0.12962181 0.80367065]\n",
      " [0.13163997 0.05299006 0.70970546 0.32231424]]\n",
      "Transposed Matrix:\n",
      " [[0.37957961 0.50364343 0.74348752 0.13163997]\n",
      " [0.15804726 0.33294189 0.59453056 0.05299006]\n",
      " [0.69216076 0.63436831 0.12962181 0.70970546]\n",
      " [0.72573935 0.95731232 0.80367065 0.32231424]]\n"
     ]
    }
   ],
   "source": [
    "# Створіть матрицю розміром 4x4, заповніть її випадковими дійсними числами в діапазоні від 0 до 1 та транспонуйте її.\n",
    "matrix = np.random.rand(4, 4)\n",
    "print(matrix)\n",
    "\n",
    "transposed_matrix = matrix.T\n",
    "print(\"Transposed Matrix:\\n\", transposed_matrix)\n"
   ]
  },
  {
   "cell_type": "code",
   "execution_count": 26,
   "id": "2bf5df40-8f14-49ac-9c88-55ecf15a1f4e",
   "metadata": {},
   "outputs": [
    {
     "name": "stdout",
     "output_type": "stream",
     "text": [
      "Matrix:\n",
      " [[1 7 5 5]\n",
      " [3 8 5 8]\n",
      " [9 2 3 5]]\n",
      "Vector:\n",
      " [7 6 7 6]\n",
      "Result:\n",
      " [114 152 126]\n"
     ]
    }
   ],
   "source": [
    "# Створіть матрицю розміром 3x4 та вектор розміром 4,\n",
    "# заповніть їх випадковими цілими числами в діапазоні від 1 до 10 та перемножте матрицю на вектор.\n",
    "matrix = np.random.randint(1, 11, size=(3, 4))\n",
    "vector = np.random.randint(1, 11, size=4)\n",
    "\n",
    "print(\"Matrix:\\n\", matrix)\n",
    "print(\"Vector:\\n\", vector)\n",
    "\n",
    "result = np.dot(matrix, vector)\n",
    "print(\"Result:\\n\", result)"
   ]
  },
  {
   "cell_type": "code",
   "execution_count": 27,
   "id": "d4a81476-af7a-404a-b7d8-e8a94688d26b",
   "metadata": {},
   "outputs": [
    {
     "name": "stdout",
     "output_type": "stream",
     "text": [
      "Matrix:\n",
      " [[0.65751676 0.96648174 0.33575727]\n",
      " [0.74716679 0.4856553  0.47516585]]\n",
      "Vector:\n",
      " [0.54945348 0.27180948 0.03327112]\n",
      "Result:\n",
      " [0.63514479 0.5583484 ]\n"
     ]
    }
   ],
   "source": [
    "# Створіть матрицю розміром 2x3 та вектор розміром 3, \n",
    "# заповніть їх випадковими дійсними числами в діапазоні від 0 до 1 та перемножте матрицю на вектор.\n",
    "\n",
    "matrix = np.random.rand(2, 3)\n",
    "vector = np.random.rand(3)\n",
    "\n",
    "print(\"Matrix:\\n\", matrix)\n",
    "print(\"Vector:\\n\", vector)\n",
    "\n",
    "result = np.dot(matrix, vector)\n",
    "print(\"Result:\\n\", result)"
   ]
  },
  {
   "cell_type": "code",
   "execution_count": 28,
   "id": "963f0c63-f403-4b18-9861-2cf79e766b8c",
   "metadata": {},
   "outputs": [
    {
     "name": "stdout",
     "output_type": "stream",
     "text": [
      "matrix1:\n",
      " [[1 6]\n",
      " [4 8]]\n",
      "matrix2:\n",
      " [[1 9]\n",
      " [8 9]]\n",
      "Result:\n",
      " [[ 1 54]\n",
      " [32 72]]\n"
     ]
    }
   ],
   "source": [
    "# Створіть дві матриці розміром 2x2, заповніть їх випадковими цілими числами в діапазоні від 1 до 10 та виконайте їхнє поелементне множення.\n",
    "matrix1 = np.random.randint(1, 11, size=(2, 2))\n",
    "matrix2 = np.random.randint(1, 11, size=(2, 2))\n",
    "\n",
    "print(\"matrix1:\\n\", matrix1)\n",
    "print(\"matrix2:\\n\", matrix2)\n",
    "\n",
    "result = matrix1 * matrix2\n",
    "print(\"Result:\\n\", result)"
   ]
  },
  {
   "cell_type": "code",
   "execution_count": 29,
   "id": "1535cb1a-3f16-4294-b05d-943a706ad298",
   "metadata": {},
   "outputs": [
    {
     "name": "stdout",
     "output_type": "stream",
     "text": [
      "matrix1:\n",
      " [[ 6  8]\n",
      " [ 7 10]]\n",
      "matrix2:\n",
      " [[6 3]\n",
      " [3 8]]\n",
      "Result:\n",
      " [[ 60  82]\n",
      " [ 72 101]]\n"
     ]
    }
   ],
   "source": [
    "# Створіть дві матриці розміром 2x2, заповніть їх випадковими цілими числами в діапазоні від 1 до 10 та знайдіть їх добуток.\n",
    "matrix1 = np.random.randint(1, 11, size=(2, 2))\n",
    "matrix2 = np.random.randint(1, 11, size=(2, 2))\n",
    "\n",
    "print(\"matrix1:\\n\", matrix1)\n",
    "print(\"matrix2:\\n\", matrix2)\n",
    "\n",
    "result = np.dot(matrix1, matrix2)\n",
    "print(\"Result:\\n\", result)"
   ]
  },
  {
   "cell_type": "code",
   "execution_count": 32,
   "id": "c7216d4a-f987-4423-80c6-b95cbec7ca9d",
   "metadata": {},
   "outputs": [
    {
     "name": "stdout",
     "output_type": "stream",
     "text": [
      "matrix:\n",
      " [[ 86  55  26  12   2]\n",
      " [ 80 100  27  50  15]\n",
      " [ 11  23   3  33   5]\n",
      " [ 95  63  26  40  57]\n",
      " [ 66  41  27  29  53]]\n",
      "Sum matrix:\n",
      " 1025\n"
     ]
    }
   ],
   "source": [
    "# Створіть матрицю розміром 5x5, заповніть її випадковими цілими числами в діапазоні від 1 до 100 та знайдіть суму елементів матриці.\n",
    "\n",
    "matrix = np.random.randint(1, 101, size=(5, 5))\n",
    "print(\"matrix:\\n\", matrix)\n",
    "\n",
    "sum_matrix = np.sum(matrix)\n",
    "print(\"Sum matrix:\\n\", sum_matrix)"
   ]
  },
  {
   "cell_type": "code",
   "execution_count": 33,
   "id": "b5990818-60a5-4016-a34e-e71092f44576",
   "metadata": {},
   "outputs": [
    {
     "name": "stdout",
     "output_type": "stream",
     "text": [
      "matrix1:\n",
      " [[ 4  6  9  6]\n",
      " [ 2  1  2  7]\n",
      " [ 4  8 10  9]\n",
      " [ 2 10  9  6]]\n",
      "matrix2:\n",
      " [[10  2  3  4]\n",
      " [ 1  8  4  3]\n",
      " [10  5  1  1]\n",
      " [ 6  5  6  7]]\n",
      "Result:\n",
      " [[-6  4  6  2]\n",
      " [ 1 -7 -2  4]\n",
      " [-6  3  9  8]\n",
      " [-4  5  3 -1]]\n"
     ]
    }
   ],
   "source": [
    "# Створіть дві матриці розміром 4x4, заповніть їх випадковими цілими числами в діапазоні від 1 до 10 та знайдіть їхню різницю.\n",
    "matrix1 = np.random.randint(1, 11, size=(4, 4))\n",
    "matrix2 = np.random.randint(1, 11, size=(4, 4))\n",
    "\n",
    "print(\"matrix1:\\n\", matrix1)\n",
    "print(\"matrix2:\\n\", matrix2)\n",
    "\n",
    "result = matrix1 - matrix2\n",
    "print(\"Result:\\n\", result)"
   ]
  },
  {
   "cell_type": "code",
   "execution_count": 40,
   "id": "4ce84d9e-d2b5-4a50-b0d5-8b4d8b2e8e52",
   "metadata": {},
   "outputs": [
    {
     "name": "stdout",
     "output_type": "stream",
     "text": [
      "Matrix:\n",
      " [[0.61332979 0.24637645 0.47307665]\n",
      " [0.25239289 0.85700827 0.53237547]\n",
      " [0.38838306 0.49178389 0.10289979]]\n",
      "Column_vector:\n",
      " [[1.33278288]\n",
      " [1.64177662]\n",
      " [0.98306674]]\n"
     ]
    }
   ],
   "source": [
    "# Створіть матрицю розміром 3x3, заповніть її випадковими дійсними числами в діапазоні від 0 до 1 та знайдіть вектор-стовпчик, \n",
    "# що містить суму елементів кожного рядка матриці.\n",
    "\n",
    "matrix = np.random.rand(3, 3)\n",
    "print(\"Matrix:\\n\", matrix)\n",
    "\n",
    "row_sums = np.sum(matrix, axis=1)\n",
    "column_vector = row_sums.reshape(-1, 1)\n",
    "\n",
    "print(\"Column_vector:\\n\", column_vector)"
   ]
  },
  {
   "cell_type": "code",
   "execution_count": 41,
   "id": "60eccb99-8f5c-4ee7-b119-10080998abb8",
   "metadata": {},
   "outputs": [
    {
     "name": "stdout",
     "output_type": "stream",
     "text": [
      "Matrix:\n",
      " [[ 2  4  5  8]\n",
      " [ 5  2 10  8]\n",
      " [ 8  4  7  5]]\n",
      "Squared_matrix:\n",
      " [[  4  16  25  64]\n",
      " [ 25   4 100  64]\n",
      " [ 64  16  49  25]]\n"
     ]
    }
   ],
   "source": [
    "# Створіть матрицю розміром 3x4 з довільними цілими числами і створінь матрицю з квадратами цих чисел.\n",
    "matrix = np.random.randint(1, 11, size=(3, 4))\n",
    "print(\"Matrix:\\n\", matrix)\n",
    "\n",
    "squared_matrix = np.square(matrix)\n",
    "print(\"Squared_matrix:\\n\", squared_matrix)"
   ]
  },
  {
   "cell_type": "code",
   "execution_count": 43,
   "id": "13f44eaf-6809-428e-a48f-7c76782b8fe1",
   "metadata": {},
   "outputs": [
    {
     "name": "stdout",
     "output_type": "stream",
     "text": [
      "Vector:\n",
      " [48 12 30 30]\n",
      "Sqrt_vector:\n",
      " [6.92820323 3.46410162 5.47722558 5.47722558]\n"
     ]
    }
   ],
   "source": [
    "# Створіть вектор розміром 4, заповніть його випадковими цілими числами в діапазоні від 1 до 50 \n",
    "# та знайдіть вектор з квадратними коренями цих чисел.\n",
    "vector = np.random.randint(1, 51, size=4)\n",
    "print(\"Vector:\\n\", vector)\n",
    "\n",
    "sqrt_vector = np.sqrt(vector)\n",
    "print(\"Sqrt_vector:\\n\", sqrt_vector)"
   ]
  },
  {
   "cell_type": "code",
   "execution_count": null,
   "id": "b3306525-714a-433e-95d4-de31e243abc1",
   "metadata": {},
   "outputs": [],
   "source": []
  }
 ],
 "metadata": {
  "kernelspec": {
   "display_name": "Python 3 (ipykernel)",
   "language": "python",
   "name": "python3"
  },
  "language_info": {
   "codemirror_mode": {
    "name": "ipython",
    "version": 3
   },
   "file_extension": ".py",
   "mimetype": "text/x-python",
   "name": "python",
   "nbconvert_exporter": "python",
   "pygments_lexer": "ipython3",
   "version": "3.10.7"
  }
 },
 "nbformat": 4,
 "nbformat_minor": 5
}
